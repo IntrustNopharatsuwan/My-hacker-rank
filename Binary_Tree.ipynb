{
 "cells": [
  {
   "cell_type": "markdown",
   "metadata": {},
   "source": [
    "<h1>Binary_Tree</h1>"
   ]
  },
  {
   "cell_type": "markdown",
   "metadata": {},
   "source": [
    "You are given a table, BST, containing two columns: N and P, where N represents the value of a node in Binary Tree, and P is the parent of N."
   ]
  },
  {
   "cell_type": "markdown",
   "metadata": {},
   "source": [
    "<img src=\"https://s3.amazonaws.com/hr-challenge-images/12888/1443818507-5095ab9853-1.png\"></img>"
   ]
  },
  {
   "cell_type": "markdown",
   "metadata": {},
   "source": [
    "Write a query to find the node type of Binary Tree ordered by the value of the node. Output one of the following for each node:\\\\\n",
    "\n",
    "Root: If node is root node.\\\n",
    "Leaf: If node is leaf node.\\\n",
    "Inner: If node is neither root nor leaf node.\\"
   ]
  },
  {
   "cell_type": "markdown",
   "metadata": {},
   "source": [
    "<h3>Sample Input</h3>"
   ]
  },
  {
   "cell_type": "markdown",
   "metadata": {},
   "source": [
    "<img src=\"https://s3.amazonaws.com/hr-challenge-images/12888/1443818467-30644673f6-2.png\"></img>"
   ]
  },
  {
   "cell_type": "markdown",
   "metadata": {},
   "source": [
    "<h3>Sample Output</h3>"
   ]
  },
  {
   "cell_type": "markdown",
   "metadata": {},
   "source": [
    "1 Leaf\\\n",
    "2 Inner\\\n",
    "3 Leaf\\\n",
    "5 Root\\\n",
    "6 Leaf\\\n",
    "8 Inner\\\n",
    "9 Leaf\\"
   ]
  },
  {
   "cell_type": "markdown",
   "metadata": {},
   "source": [
    "Explanation\\\n",
    "\n",
    "The Binary Tree below illustrates the sample:"
   ]
  },
  {
   "cell_type": "markdown",
   "metadata": {},
   "source": [
    "<img src=\"https://s3.amazonaws.com/hr-challenge-images/12888/1443773633-f9e6fd314e-simply_sql_bst.png\"></img>"
   ]
  },
  {
   "cell_type": "markdown",
   "metadata": {},
   "source": [
    "<h1>Code</h1>"
   ]
  },
  {
   "cell_type": "code",
   "execution_count": null,
   "metadata": {
    "vscode": {
     "languageId": "sql"
    }
   },
   "outputs": [],
   "source": [
    "SELECT N,\n",
    "CASE WHEN P IS NULL THEN \"Root\"\n",
    "     WHEN N in (SELECT DISTINCT P FROM BST) THEN \"Inner\"\n",
    "     ELSE \"Leaf\"\n",
    "     END\n",
    "FROM BST \n",
    "ORDER BY N"
   ]
  }
 ],
 "metadata": {
  "language_info": {
   "name": "python"
  }
 },
 "nbformat": 4,
 "nbformat_minor": 2
}
