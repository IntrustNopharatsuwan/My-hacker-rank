{
 "cells": [
  {
   "cell_type": "markdown",
   "metadata": {},
   "source": [
    "<h1>The Report</h1>"
   ]
  },
  {
   "cell_type": "markdown",
   "metadata": {},
   "source": [
    "You are given two tables: Students and Grades. Students contains three columns ID, Name and Marks."
   ]
  },
  {
   "cell_type": "markdown",
   "metadata": {},
   "source": [
    "<img src = 'https://s3.amazonaws.com/hr-challenge-images/12891/1443818166-a5c852caa0-1.png'></img>"
   ]
  },
  {
   "cell_type": "markdown",
   "metadata": {},
   "source": [
    "Grades contains the following data:"
   ]
  },
  {
   "cell_type": "markdown",
   "metadata": {},
   "source": [
    "<img src = 'https://s3.amazonaws.com/hr-challenge-images/12891/1443818137-69b76d805c-2.png'></img>"
   ]
  },
  {
   "cell_type": "markdown",
   "metadata": {},
   "source": [
    "Ketty gives Eve a task to generate a report containing three columns: Name, Grade and Mark. Ketty doesn't want the NAMES of those students who received a grade lower than 8. The report must be in descending order by grade -- i.e. higher grades are entered first. If there is more than one student with the same grade (8-10) assigned to them, order those particular students by their name alphabetically. Finally, if the grade is lower than 8, use \"NULL\" as their name and list them by their grades in descending order. If there is more than one student with the same grade (1-7) assigned to them, order those particular students by their marks in ascending order.\n",
    "\n",
    "Write a query to help Eve."
   ]
  },
  {
   "cell_type": "markdown",
   "metadata": {},
   "source": [
    "<h3>Sample Input</h3>"
   ]
  },
  {
   "cell_type": "markdown",
   "metadata": {},
   "source": [
    "<img src = 'https://s3.amazonaws.com/hr-challenge-images/12891/1443818093-b79f376ec1-3.png'></img>"
   ]
  },
  {
   "cell_type": "markdown",
   "metadata": {},
   "source": [
    "<h3>Sample Output</h3>"
   ]
  },
  {
   "cell_type": "markdown",
   "metadata": {},
   "source": [
    "Maria 10 99 \\\n",
    "Jane 9 81 \\\n",
    "Julia 9 88 \\\n",
    "Scarlet 8 78 \\\n",
    "NULL 7 63 \\\n",
    "NULL 7 68"
   ]
  },
  {
   "cell_type": "markdown",
   "metadata": {},
   "source": [
    "Note\n",
    "\n",
    "Print \"NULL\"  as the name if the grade is less than 8."
   ]
  },
  {
   "cell_type": "markdown",
   "metadata": {},
   "source": [
    "<h3>Explanation</h3>"
   ]
  },
  {
   "cell_type": "markdown",
   "metadata": {},
   "source": [
    "Consider the following table with the grades assigned to the students:"
   ]
  },
  {
   "cell_type": "markdown",
   "metadata": {},
   "source": [
    "<img src = 'https://s3.amazonaws.com/hr-challenge-images/12891/1443818026-0b3af8db30-4.png'></img>"
   ]
  },
  {
   "cell_type": "markdown",
   "metadata": {},
   "source": [
    "So, the following students got 8, 9 or 10 grades:\n",
    "\n",
    "* Maria (grade 10)\n",
    "* Jane (grade 9)\n",
    "* Julia (grade 9)\n",
    "* Scarlet (grade 8)"
   ]
  },
  {
   "cell_type": "markdown",
   "metadata": {},
   "source": [
    "<h1>Code</h1>"
   ]
  },
  {
   "cell_type": "code",
   "execution_count": null,
   "metadata": {
    "vscode": {
     "languageId": "sql"
    }
   },
   "outputs": [],
   "source": [
    "SELECT\n",
    "CASE WHEN B.Grade >7 THEN A.Name\n",
    "ELSE NULL\n",
    "END AS NAMES\n",
    ", B.Grade, A.Marks\n",
    "FROM Students AS A\n",
    "LEFT JOIN Grades AS B\n",
    "ON (A.Marks >= B.Min_Mark AND A.Marks <= B.Max_Mark)\n",
    "ORDER BY B.Grade DESC, NAMES ASC"
   ]
  }
 ],
 "metadata": {
  "language_info": {
   "name": "python"
  }
 },
 "nbformat": 4,
 "nbformat_minor": 2
}
